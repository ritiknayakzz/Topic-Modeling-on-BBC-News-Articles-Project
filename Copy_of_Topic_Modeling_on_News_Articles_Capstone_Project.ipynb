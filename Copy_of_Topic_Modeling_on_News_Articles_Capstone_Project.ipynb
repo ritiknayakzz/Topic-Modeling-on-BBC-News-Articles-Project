{
  "nbformat": 4,
  "nbformat_minor": 0,
  "metadata": {
    "kernelspec": {
      "display_name": "Python 3",
      "language": "python",
      "name": "python3"
    },
    "language_info": {
      "codemirror_mode": {
        "name": "ipython",
        "version": 3
      },
      "file_extension": ".py",
      "mimetype": "text/x-python",
      "name": "python",
      "nbconvert_exporter": "python",
      "pygments_lexer": "ipython3",
      "version": "3.6.6"
    },
    "colab": {
      "name": "Copy of Topic Modeling on News Articles - Capstone Project.ipynb",
      "provenance": [],
      "collapsed_sections": [],
      "include_colab_link": true
    }
  },
  "cells": [
    {
      "cell_type": "markdown",
      "metadata": {
        "id": "view-in-github",
        "colab_type": "text"
      },
      "source": [
        "<a href=\"https://colab.research.google.com/github/ritiknayakzz/Topic-Modeling-on-BBC-News-Articles-Project/blob/main/Copy_of_Topic_Modeling_on_News_Articles_Capstone_Project.ipynb\" target=\"_parent\"><img src=\"https://colab.research.google.com/assets/colab-badge.svg\" alt=\"Open In Colab\"/></a>"
      ]
    },
    {
      "cell_type": "markdown",
      "metadata": {
        "id": "tOGC-qoyhJeX"
      },
      "source": [
        "# <b><u> Project Title : Extraction/identification of major topics & themes discussed in news articles. </u></b>"
      ]
    },
    {
      "cell_type": "markdown",
      "metadata": {
        "id": "Y06xIdG26kRF"
      },
      "source": [
        "## <b> Problem Description </b>\n",
        "\n",
        "### In this project your task is to identify major themes/topics across a collection of BBC news articles. You can use clustering algorithms such as Latent Dirichlet Allocation (LDA), Latent Semantic Analysis (LSA) etc."
      ]
    },
    {
      "cell_type": "markdown",
      "metadata": {
        "id": "AlLxAtlziMbP"
      },
      "source": [
        "## <b> Data Description </b>\n",
        "\n",
        "### The dataset contains a set of news articles for each major segment consisting of business, entertainment, politics, sports and technology. You need to create an aggregate dataset of all the news articles and perform topic modeling on this dataset. Verify whether these topics correspond to the different tags available."
      ]
    },
    {
      "cell_type": "code",
      "source": [
        "from google.colab import drive\n",
        "drive.mount('/content/drive')"
      ],
      "metadata": {
        "colab": {
          "base_uri": "https://localhost:8080/"
        },
        "id": "vypw2-eYaGOC",
        "outputId": "928df231-d7ca-487d-8a83-6607fdc46af7"
      },
      "execution_count": 1,
      "outputs": [
        {
          "output_type": "stream",
          "name": "stdout",
          "text": [
            "Mounted at /content/drive\n"
          ]
        }
      ]
    },
    {
      "cell_type": "code",
      "source": [
        "import os\n",
        "import random\n",
        "import pandas as pd"
      ],
      "metadata": {
        "id": "L6oJHusVaIIg"
      },
      "execution_count": 2,
      "outputs": []
    },
    {
      "cell_type": "code",
      "source": [
        "dirnames = []\n",
        "\n",
        "topics = ['business', 'politics', 'tech', 'entertainment', 'sport']\n",
        "\n",
        "for topic in topics:\n",
        "  for file in os.walk('/content/drive/MyDrive/Topic Modeling on BBC News Articles/bbc'+'/{}'.format(topic)):\n",
        "    print(file)\n",
        "    break"
      ],
      "metadata": {
        "id": "HPSb5xWHaIN4",
        "colab": {
          "base_uri": "https://localhost:8080/"
        },
        "outputId": "6f2ea8ff-0372-4c60-ea82-ae73833d9f40"
      },
      "execution_count": 3,
      "outputs": [
        {
          "output_type": "stream",
          "name": "stdout",
          "text": [
            "('/content/drive/MyDrive/Topic Modeling on BBC News Articles/bbc/business', [], ['003.txt', '001.txt', '002.txt', '024.txt', '004.txt', '019.txt', '025.txt', '011.txt', '012.txt', '014.txt', '021.txt', '022.txt', '017.txt', '009.txt', '028.txt', '027.txt', '016.txt', '023.txt', '006.txt', '010.txt', '018.txt', '015.txt', '008.txt', '007.txt', '013.txt', '026.txt', '005.txt', '020.txt', '058.txt', '044.txt', '040.txt', '029.txt', '067.txt', '042.txt', '038.txt', '063.txt', '032.txt', '039.txt', '053.txt', '071.txt', '031.txt', '036.txt', '072.txt', '046.txt', '054.txt', '047.txt', '052.txt', '061.txt', '037.txt', '050.txt', '041.txt', '066.txt', '043.txt', '064.txt', '059.txt', '065.txt', '035.txt', '070.txt', '068.txt', '033.txt', '056.txt', '034.txt', '055.txt', '048.txt', '030.txt', '049.txt', '069.txt', '073.txt', '051.txt', '045.txt', '057.txt', '062.txt', '060.txt', '077.txt', '110.txt', '092.txt', '112.txt', '097.txt', '107.txt', '078.txt', '079.txt', '081.txt', '087.txt', '084.txt', '088.txt', '093.txt', '102.txt', '076.txt', '104.txt', '095.txt', '100.txt', '113.txt', '101.txt', '082.txt', '099.txt', '075.txt', '098.txt', '085.txt', '086.txt', '109.txt', '105.txt', '089.txt', '106.txt', '094.txt', '096.txt', '091.txt', '114.txt', '083.txt', '108.txt', '115.txt', '080.txt', '090.txt', '111.txt', '103.txt', '074.txt', '159.txt', '142.txt', '117.txt', '127.txt', '135.txt', '149.txt', '121.txt', '153.txt', '128.txt', '118.txt', '145.txt', '150.txt', '137.txt', '152.txt', '151.txt', '134.txt', '133.txt', '140.txt', '147.txt', '129.txt', '154.txt', '139.txt', '123.txt', '120.txt', '125.txt', '130.txt', '119.txt', '146.txt', '144.txt', '157.txt', '156.txt', '136.txt', '122.txt', '131.txt', '143.txt', '148.txt', '158.txt', '124.txt', '141.txt', '155.txt', '126.txt', '116.txt', '132.txt', '138.txt', '161.txt', '185.txt', '182.txt', '181.txt', '184.txt', '196.txt', '176.txt', '167.txt', '198.txt', '188.txt', '175.txt', '195.txt', '197.txt', '170.txt', '163.txt', '168.txt', '186.txt', '164.txt', '189.txt', '166.txt', '171.txt', '190.txt', '165.txt', '201.txt', '180.txt', '169.txt', '177.txt', '187.txt', '162.txt', '203.txt', '193.txt', '202.txt', '191.txt', '194.txt', '183.txt', '179.txt', '200.txt', '172.txt', '178.txt', '192.txt', '173.txt', '174.txt', '199.txt', '160.txt', '218.txt', '228.txt', '231.txt', '224.txt', '210.txt', '226.txt', '229.txt', '212.txt', '237.txt', '240.txt', '225.txt', '207.txt', '219.txt', '232.txt', '220.txt', '242.txt', '223.txt', '208.txt', '234.txt', '243.txt', '236.txt', '217.txt', '211.txt', '215.txt', '227.txt', '213.txt', '222.txt', '206.txt', '205.txt', '238.txt', '235.txt', '233.txt', '239.txt', '241.txt', '214.txt', '204.txt', '216.txt', '209.txt', '230.txt', '221.txt', '265.txt', '266.txt', '274.txt', '251.txt', '277.txt', '269.txt', '267.txt', '275.txt', '250.txt', '264.txt', '262.txt', '287.txt', '248.txt', '272.txt', '261.txt', '286.txt', '285.txt', '284.txt', '244.txt', '260.txt', '279.txt', '252.txt', '280.txt', '278.txt', '283.txt', '276.txt', '259.txt', '247.txt', '245.txt', '253.txt', '256.txt', '255.txt', '254.txt', '268.txt', '258.txt', '249.txt', '270.txt', '246.txt', '257.txt', '282.txt', '273.txt', '263.txt', '281.txt', '271.txt', '328.txt', '298.txt', '293.txt', '290.txt', '322.txt', '312.txt', '320.txt', '310.txt', '325.txt', '297.txt', '291.txt', '300.txt', '289.txt', '294.txt', '292.txt', '324.txt', '295.txt', '305.txt', '323.txt', '308.txt', '302.txt', '315.txt', '299.txt', '288.txt', '304.txt', '316.txt', '313.txt', '318.txt', '306.txt', '296.txt', '329.txt', '321.txt', '314.txt', '327.txt', '303.txt', '301.txt', '311.txt', '317.txt', '309.txt', '319.txt', '326.txt', '307.txt', '334.txt', '340.txt', '335.txt', '346.txt', '353.txt', '352.txt', '355.txt', '354.txt', '338.txt', '339.txt', '341.txt', '356.txt', '362.txt', '359.txt', '361.txt', '336.txt', '333.txt', '370.txt', '337.txt', '342.txt', '348.txt', '332.txt', '345.txt', '364.txt', '350.txt', '366.txt', '347.txt', '360.txt', '368.txt', '343.txt', '369.txt', '344.txt', '351.txt', '357.txt', '330.txt', '363.txt', '349.txt', '374.txt', '372.txt', '367.txt', '371.txt', '373.txt', '358.txt', '365.txt', '331.txt', '379.txt', '389.txt', '416.txt', '376.txt', '408.txt', '392.txt', '394.txt', '382.txt', '414.txt', '404.txt', '412.txt', '417.txt', '411.txt', '381.txt', '418.txt', '403.txt', '377.txt', '391.txt', '409.txt', '402.txt', '393.txt', '385.txt', '375.txt', '390.txt', '400.txt', '384.txt', '415.txt', '388.txt', '405.txt', '406.txt', '420.txt', '413.txt', '419.txt', '410.txt', '386.txt', '407.txt', '398.txt', '401.txt', '399.txt', '383.txt', '395.txt', '380.txt', '378.txt', '396.txt', '387.txt', '397.txt', '443.txt', '445.txt', '446.txt', '442.txt', '456.txt', '433.txt', '464.txt', '437.txt', '438.txt', '447.txt', '451.txt', '444.txt', '455.txt', '432.txt', '463.txt', '435.txt', '439.txt', '440.txt', '427.txt', '461.txt', '430.txt', '452.txt', '424.txt', '428.txt', '441.txt', '429.txt', '450.txt', '434.txt', '462.txt', '454.txt', '460.txt', '422.txt', '448.txt', '457.txt', '425.txt', '426.txt', '458.txt', '449.txt', '431.txt', '436.txt', '421.txt', '459.txt', '453.txt', '423.txt', '489.txt', '482.txt', '490.txt', '493.txt', '470.txt', '469.txt', '492.txt', '495.txt', '491.txt', '476.txt', '483.txt', '478.txt', '467.txt', '466.txt', '501.txt', '468.txt', '477.txt', '481.txt', '497.txt', '503.txt', '474.txt', '465.txt', '502.txt', '496.txt', '473.txt', '488.txt', '471.txt', '494.txt', '487.txt', '500.txt', '479.txt', '499.txt', '484.txt', '480.txt', '485.txt', '486.txt', '475.txt', '498.txt', '472.txt', '510.txt', '506.txt', '505.txt', '507.txt', '509.txt', '504.txt', '508.txt'])\n",
            "('/content/drive/MyDrive/Topic Modeling on BBC News Articles/bbc/politics', [], ['007.txt', '004.txt', '003.txt', '002.txt', '011.txt', '005.txt', '001.txt', '008.txt', '012.txt', '009.txt', '013.txt', '006.txt', '010.txt', '057.txt', '028.txt', '022.txt', '032.txt', '045.txt', '024.txt', '046.txt', '054.txt', '059.txt', '047.txt', '036.txt', '031.txt', '030.txt', '037.txt', '014.txt', '042.txt', '044.txt', '053.txt', '016.txt', '019.txt', '029.txt', '041.txt', '023.txt', '052.txt', '040.txt', '025.txt', '027.txt', '049.txt', '048.txt', '058.txt', '026.txt', '015.txt', '038.txt', '051.txt', '033.txt', '034.txt', '056.txt', '018.txt', '043.txt', '021.txt', '017.txt', '050.txt', '039.txt', '055.txt', '020.txt', '035.txt', '086.txt', '072.txt', '060.txt', '061.txt', '094.txt', '070.txt', '096.txt', '073.txt', '083.txt', '095.txt', '077.txt', '066.txt', '093.txt', '076.txt', '082.txt', '088.txt', '092.txt', '089.txt', '079.txt', '067.txt', '081.txt', '080.txt', '069.txt', '062.txt', '065.txt', '068.txt', '078.txt', '075.txt', '063.txt', '085.txt', '084.txt', '064.txt', '074.txt', '091.txt', '071.txt', '090.txt', '087.txt', '123.txt', '099.txt', '113.txt', '111.txt', '133.txt', '131.txt', '128.txt', '139.txt', '140.txt', '115.txt', '121.txt', '100.txt', '141.txt', '119.txt', '101.txt', '103.txt', '098.txt', '120.txt', '129.txt', '135.txt', '116.txt', '104.txt', '097.txt', '124.txt', '126.txt', '117.txt', '105.txt', '114.txt', '109.txt', '137.txt', '138.txt', '142.txt', '110.txt', '106.txt', '118.txt', '134.txt', '107.txt', '130.txt', '132.txt', '127.txt', '125.txt', '136.txt', '112.txt', '108.txt', '122.txt', '102.txt', '149.txt', '159.txt', '173.txt', '185.txt', '179.txt', '180.txt', '155.txt', '181.txt', '162.txt', '167.txt', '156.txt', '183.txt', '175.txt', '172.txt', '164.txt', '177.txt', '158.txt', '161.txt', '170.txt', '147.txt', '178.txt', '144.txt', '146.txt', '154.txt', '169.txt', '166.txt', '151.txt', '188.txt', '182.txt', '143.txt', '184.txt', '168.txt', '148.txt', '150.txt', '165.txt', '152.txt', '160.txt', '174.txt', '163.txt', '176.txt', '153.txt', '145.txt', '157.txt', '186.txt', '187.txt', '171.txt', '225.txt', '226.txt', '207.txt', '199.txt', '200.txt', '221.txt', '208.txt', '197.txt', '192.txt', '209.txt', '204.txt', '206.txt', '201.txt', '223.txt', '194.txt', '202.txt', '195.txt', '193.txt', '215.txt', '219.txt', '191.txt', '190.txt', '203.txt', '196.txt', '224.txt', '220.txt', '212.txt', '189.txt', '198.txt', '222.txt', '210.txt', '205.txt', '218.txt', '217.txt', '216.txt', '211.txt', '213.txt', '214.txt', '250.txt', '246.txt', '253.txt', '254.txt', '267.txt', '227.txt', '241.txt', '263.txt', '240.txt', '235.txt', '232.txt', '257.txt', '237.txt', '231.txt', '248.txt', '233.txt', '264.txt', '252.txt', '260.txt', '234.txt', '247.txt', '266.txt', '251.txt', '269.txt', '229.txt', '243.txt', '270.txt', '262.txt', '228.txt', '242.txt', '249.txt', '236.txt', '271.txt', '255.txt', '265.txt', '244.txt', '245.txt', '238.txt', '268.txt', '258.txt', '230.txt', '261.txt', '259.txt', '256.txt', '239.txt', '312.txt', '272.txt', '308.txt', '283.txt', '301.txt', '281.txt', '280.txt', '291.txt', '288.txt', '313.txt', '289.txt', '290.txt', '311.txt', '315.txt', '302.txt', '299.txt', '273.txt', '278.txt', '309.txt', '276.txt', '316.txt', '305.txt', '292.txt', '307.txt', '296.txt', '294.txt', '287.txt', '275.txt', '297.txt', '304.txt', '285.txt', '298.txt', '310.txt', '277.txt', '274.txt', '300.txt', '279.txt', '295.txt', '293.txt', '303.txt', '286.txt', '306.txt', '282.txt', '284.txt', '317.txt', '314.txt', '331.txt', '336.txt', '355.txt', '348.txt', '334.txt', '338.txt', '324.txt', '362.txt', '359.txt', '325.txt', '327.txt', '341.txt', '354.txt', '340.txt', '337.txt', '343.txt', '326.txt', '353.txt', '345.txt', '360.txt', '323.txt', '335.txt', '352.txt', '329.txt', '356.txt', '357.txt', '322.txt', '358.txt', '339.txt', '320.txt', '344.txt', '328.txt', '318.txt', '333.txt', '319.txt', '349.txt', '330.txt', '321.txt', '332.txt', '346.txt', '347.txt', '350.txt', '351.txt', '342.txt', '361.txt', '392.txt', '402.txt', '373.txt', '388.txt', '378.txt', '396.txt', '382.txt', '405.txt', '380.txt', '366.txt', '386.txt', '406.txt', '374.txt', '387.txt', '383.txt', '367.txt', '400.txt', '404.txt', '398.txt', '365.txt', '403.txt', '363.txt', '368.txt', '370.txt', '379.txt', '397.txt', '385.txt', '371.txt', '375.txt', '391.txt', '384.txt', '395.txt', '376.txt', '394.txt', '364.txt', '390.txt', '399.txt', '377.txt', '401.txt', '389.txt', '393.txt', '381.txt', '369.txt', '372.txt', '408.txt', '417.txt', '413.txt', '416.txt', '411.txt', '414.txt', '409.txt', '410.txt', '415.txt', '412.txt', '407.txt'])\n",
            "('/content/drive/MyDrive/Topic Modeling on BBC News Articles/bbc/tech', [], ['003.txt', '005.txt', '001.txt', '002.txt', '004.txt', '022.txt', '031.txt', '006.txt', '025.txt', '020.txt', '029.txt', '017.txt', '019.txt', '049.txt', '012.txt', '048.txt', '016.txt', '037.txt', '044.txt', '051.txt', '036.txt', '042.txt', '013.txt', '009.txt', '043.txt', '038.txt', '040.txt', '028.txt', '034.txt', '024.txt', '047.txt', '050.txt', '027.txt', '007.txt', '023.txt', '035.txt', '008.txt', '014.txt', '039.txt', '011.txt', '026.txt', '021.txt', '033.txt', '045.txt', '032.txt', '018.txt', '046.txt', '015.txt', '010.txt', '041.txt', '030.txt', '067.txt', '074.txt', '088.txt', '071.txt', '064.txt', '060.txt', '054.txt', '056.txt', '083.txt', '089.txt', '075.txt', '079.txt', '092.txt', '070.txt', '085.txt', '091.txt', '087.txt', '090.txt', '076.txt', '073.txt', '072.txt', '078.txt', '093.txt', '057.txt', '052.txt', '069.txt', '055.txt', '066.txt', '059.txt', '065.txt', '063.txt', '082.txt', '053.txt', '081.txt', '068.txt', '077.txt', '080.txt', '061.txt', '086.txt', '062.txt', '084.txt', '058.txt', '116.txt', '117.txt', '100.txt', '110.txt', '132.txt', '126.txt', '118.txt', '107.txt', '133.txt', '131.txt', '111.txt', '098.txt', '124.txt', '122.txt', '096.txt', '137.txt', '134.txt', '109.txt', '119.txt', '112.txt', '099.txt', '097.txt', '106.txt', '121.txt', '108.txt', '113.txt', '138.txt', '102.txt', '120.txt', '114.txt', '094.txt', '103.txt', '130.txt', '101.txt', '135.txt', '128.txt', '095.txt', '129.txt', '127.txt', '105.txt', '104.txt', '125.txt', '115.txt', '136.txt', '123.txt', '144.txt', '160.txt', '139.txt', '153.txt', '152.txt', '175.txt', '172.txt', '154.txt', '141.txt', '166.txt', '176.txt', '178.txt', '143.txt', '163.txt', '140.txt', '168.txt', '177.txt', '167.txt', '146.txt', '170.txt', '171.txt', '147.txt', '173.txt', '161.txt', '157.txt', '164.txt', '148.txt', '151.txt', '174.txt', '158.txt', '142.txt', '150.txt', '149.txt', '169.txt', '159.txt', '162.txt', '155.txt', '156.txt', '165.txt', '145.txt', '216.txt', '192.txt', '202.txt', '179.txt', '207.txt', '206.txt', '214.txt', '199.txt', '190.txt', '187.txt', '218.txt', '200.txt', '210.txt', '182.txt', '197.txt', '191.txt', '213.txt', '209.txt', '198.txt', '194.txt', '211.txt', '204.txt', '208.txt', '189.txt', '180.txt', '195.txt', '217.txt', '215.txt', '183.txt', '181.txt', '219.txt', '201.txt', '188.txt', '203.txt', '184.txt', '185.txt', '186.txt', '212.txt', '196.txt', '193.txt', '205.txt', '220.txt', '238.txt', '266.txt', '228.txt', '246.txt', '222.txt', '247.txt', '235.txt', '261.txt', '224.txt', '233.txt', '254.txt', '230.txt', '256.txt', '253.txt', '263.txt', '249.txt', '226.txt', '252.txt', '260.txt', '257.txt', '248.txt', '259.txt', '241.txt', '229.txt', '237.txt', '227.txt', '242.txt', '236.txt', '240.txt', '264.txt', '221.txt', '245.txt', '258.txt', '262.txt', '243.txt', '244.txt', '265.txt', '250.txt', '231.txt', '255.txt', '232.txt', '234.txt', '251.txt', '223.txt', '225.txt', '239.txt', '314.txt', '276.txt', '297.txt', '277.txt', '296.txt', '306.txt', '284.txt', '273.txt', '279.txt', '267.txt', '294.txt', '280.txt', '311.txt', '291.txt', '278.txt', '283.txt', '274.txt', '287.txt', '289.txt', '312.txt', '308.txt', '275.txt', '268.txt', '304.txt', '286.txt', '302.txt', '295.txt', '309.txt', '282.txt', '272.txt', '293.txt', '301.txt', '285.txt', '271.txt', '298.txt', '292.txt', '270.txt', '300.txt', '315.txt', '290.txt', '288.txt', '281.txt', '307.txt', '269.txt', '313.txt', '305.txt', '310.txt', '299.txt', '303.txt', '341.txt', '339.txt', '319.txt', '337.txt', '326.txt', '360.txt', '355.txt', '343.txt', '340.txt', '320.txt', '338.txt', '335.txt', '349.txt', '351.txt', '331.txt', '354.txt', '353.txt', '322.txt', '333.txt', '356.txt', '321.txt', '347.txt', '329.txt', '352.txt', '359.txt', '348.txt', '357.txt', '361.txt', '332.txt', '344.txt', '342.txt', '327.txt', '328.txt', '318.txt', '316.txt', '323.txt', '358.txt', '325.txt', '350.txt', '317.txt', '345.txt', '336.txt', '334.txt', '346.txt', '330.txt', '324.txt', '370.txt', '377.txt', '365.txt', '400.txt', '394.txt', '375.txt', '401.txt', '376.txt', '398.txt', '393.txt', '383.txt', '372.txt', '363.txt', '367.txt', '387.txt', '378.txt', '391.txt', '390.txt', '389.txt', '380.txt', '374.txt', '395.txt', '364.txt', '379.txt', '399.txt', '371.txt', '386.txt', '392.txt', '382.txt', '381.txt', '396.txt', '373.txt', '366.txt', '384.txt', '368.txt', '397.txt', '362.txt', '369.txt', '388.txt', '385.txt'])\n",
            "('/content/drive/MyDrive/Topic Modeling on BBC News Articles/bbc/entertainment', [], ['001.txt', '016.txt', '035.txt', '012.txt', '034.txt', '023.txt', '005.txt', '024.txt', '011.txt', '007.txt', '018.txt', '014.txt', '022.txt', '021.txt', '027.txt', '032.txt', '009.txt', '008.txt', '020.txt', '033.txt', '013.txt', '006.txt', '003.txt', '015.txt', '038.txt', '019.txt', '036.txt', '026.txt', '010.txt', '002.txt', '028.txt', '037.txt', '031.txt', '040.txt', '039.txt', '004.txt', '025.txt', '029.txt', '030.txt', '017.txt', '044.txt', '077.txt', '043.txt', '075.txt', '069.txt', '057.txt', '063.txt', '047.txt', '056.txt', '059.txt', '070.txt', '046.txt', '071.txt', '055.txt', '062.txt', '061.txt', '051.txt', '084.txt', '058.txt', '060.txt', '080.txt', '067.txt', '049.txt', '064.txt', '079.txt', '048.txt', '081.txt', '068.txt', '050.txt', '072.txt', '078.txt', '041.txt', '054.txt', '076.txt', '083.txt', '082.txt', '053.txt', '065.txt', '042.txt', '073.txt', '066.txt', '052.txt', '074.txt', '085.txt', '045.txt', '118.txt', '097.txt', '107.txt', '089.txt', '093.txt', '124.txt', '101.txt', '099.txt', '096.txt', '127.txt', '122.txt', '129.txt', '120.txt', '106.txt', '109.txt', '121.txt', '123.txt', '128.txt', '105.txt', '103.txt', '116.txt', '111.txt', '119.txt', '090.txt', '087.txt', '110.txt', '114.txt', '086.txt', '102.txt', '125.txt', '112.txt', '113.txt', '098.txt', '095.txt', '115.txt', '088.txt', '092.txt', '126.txt', '104.txt', '117.txt', '091.txt', '094.txt', '108.txt', '100.txt', '165.txt', '172.txt', '154.txt', '151.txt', '152.txt', '144.txt', '149.txt', '157.txt', '155.txt', '142.txt', '140.txt', '170.txt', '139.txt', '167.txt', '156.txt', '162.txt', '146.txt', '138.txt', '153.txt', '132.txt', '164.txt', '148.txt', '159.txt', '150.txt', '160.txt', '163.txt', '137.txt', '145.txt', '136.txt', '169.txt', '135.txt', '134.txt', '131.txt', '158.txt', '166.txt', '168.txt', '147.txt', '161.txt', '133.txt', '171.txt', '130.txt', '143.txt', '141.txt', '214.txt', '204.txt', '197.txt', '201.txt', '179.txt', '183.txt', '175.txt', '206.txt', '192.txt', '217.txt', '218.txt', '208.txt', '200.txt', '202.txt', '216.txt', '198.txt', '195.txt', '196.txt', '178.txt', '176.txt', '181.txt', '180.txt', '203.txt', '187.txt', '215.txt', '173.txt', '207.txt', '210.txt', '177.txt', '213.txt', '182.txt', '186.txt', '212.txt', '190.txt', '189.txt', '211.txt', '184.txt', '209.txt', '191.txt', '194.txt', '185.txt', '193.txt', '199.txt', '174.txt', '205.txt', '188.txt', '252.txt', '258.txt', '244.txt', '220.txt', '221.txt', '251.txt', '243.txt', '222.txt', '256.txt', '254.txt', '228.txt', '230.txt', '261.txt', '255.txt', '245.txt', '241.txt', '231.txt', '229.txt', '239.txt', '224.txt', '263.txt', '247.txt', '226.txt', '250.txt', '225.txt', '257.txt', '246.txt', '227.txt', '238.txt', '235.txt', '249.txt', '223.txt', '253.txt', '242.txt', '237.txt', '236.txt', '219.txt', '232.txt', '262.txt', '240.txt', '260.txt', '248.txt', '233.txt', '234.txt', '259.txt', '297.txt', '308.txt', '290.txt', '278.txt', '283.txt', '279.txt', '264.txt', '299.txt', '305.txt', '303.txt', '265.txt', '273.txt', '300.txt', '291.txt', '285.txt', '269.txt', '282.txt', '272.txt', '293.txt', '287.txt', '296.txt', '267.txt', '298.txt', '292.txt', '302.txt', '286.txt', '294.txt', '270.txt', '274.txt', '281.txt', '266.txt', '275.txt', '306.txt', '284.txt', '271.txt', '295.txt', '277.txt', '288.txt', '268.txt', '304.txt', '307.txt', '289.txt', '301.txt', '276.txt', '280.txt', '327.txt', '331.txt', '339.txt', '326.txt', '314.txt', '318.txt', '310.txt', '336.txt', '344.txt', '347.txt', '320.txt', '353.txt', '352.txt', '321.txt', '342.txt', '316.txt', '345.txt', '313.txt', '354.txt', '312.txt', '337.txt', '340.txt', '338.txt', '325.txt', '334.txt', '311.txt', '317.txt', '346.txt', '328.txt', '350.txt', '323.txt', '348.txt', '333.txt', '351.txt', '349.txt', '343.txt', '341.txt', '309.txt', '324.txt', '319.txt', '315.txt', '322.txt', '329.txt', '335.txt', '332.txt', '330.txt', '366.txt', '384.txt', '377.txt', '365.txt', '379.txt', '363.txt', '385.txt', '373.txt', '371.txt', '356.txt', '386.txt', '370.txt', '378.txt', '368.txt', '358.txt', '361.txt', '357.txt', '375.txt', '383.txt', '374.txt', '376.txt', '360.txt', '369.txt', '382.txt', '355.txt', '372.txt', '381.txt', '362.txt', '367.txt', '380.txt', '364.txt', '359.txt'])\n",
            "('/content/drive/MyDrive/Topic Modeling on BBC News Articles/bbc/sport', [], ['005.txt', '030.txt', '009.txt', '013.txt', '003.txt', '014.txt', '035.txt', '023.txt', '011.txt', '012.txt', '033.txt', '024.txt', '032.txt', '010.txt', '029.txt', '006.txt', '031.txt', '026.txt', '020.txt', '016.txt', '004.txt', '002.txt', '007.txt', '021.txt', '001.txt', '017.txt', '022.txt', '019.txt', '034.txt', '015.txt', '025.txt', '027.txt', '028.txt', '008.txt', '018.txt', '054.txt', '050.txt', '059.txt', '072.txt', '039.txt', '069.txt', '052.txt', '075.txt', '060.txt', '073.txt', '068.txt', '074.txt', '067.txt', '044.txt', '043.txt', '055.txt', '070.txt', '049.txt', '058.txt', '063.txt', '036.txt', '064.txt', '062.txt', '042.txt', '079.txt', '051.txt', '065.txt', '061.txt', '071.txt', '041.txt', '057.txt', '048.txt', '046.txt', '076.txt', '056.txt', '038.txt', '047.txt', '053.txt', '078.txt', '037.txt', '066.txt', '045.txt', '040.txt', '080.txt', '077.txt', '096.txt', '122.txt', '086.txt', '083.txt', '105.txt', '099.txt', '093.txt', '097.txt', '118.txt', '119.txt', '107.txt', '112.txt', '091.txt', '085.txt', '114.txt', '113.txt', '082.txt', '116.txt', '117.txt', '101.txt', '095.txt', '111.txt', '084.txt', '124.txt', '110.txt', '098.txt', '127.txt', '089.txt', '123.txt', '104.txt', '094.txt', '090.txt', '125.txt', '088.txt', '108.txt', '126.txt', '087.txt', '081.txt', '102.txt', '121.txt', '115.txt', '103.txt', '092.txt', '120.txt', '109.txt', '106.txt', '100.txt', '171.txt', '128.txt', '166.txt', '151.txt', '170.txt', '131.txt', '139.txt', '135.txt', '144.txt', '133.txt', '129.txt', '167.txt', '137.txt', '156.txt', '138.txt', '147.txt', '148.txt', '143.txt', '162.txt', '142.txt', '172.txt', '164.txt', '154.txt', '160.txt', '130.txt', '168.txt', '132.txt', '161.txt', '150.txt', '152.txt', '134.txt', '149.txt', '145.txt', '159.txt', '155.txt', '141.txt', '146.txt', '163.txt', '169.txt', '153.txt', '136.txt', '165.txt', '157.txt', '140.txt', '158.txt', '185.txt', '212.txt', '203.txt', '209.txt', '188.txt', '202.txt', '196.txt', '195.txt', '189.txt', '187.txt', '193.txt', '216.txt', '180.txt', '194.txt', '214.txt', '204.txt', '182.txt', '179.txt', '199.txt', '215.txt', '173.txt', '206.txt', '205.txt', '210.txt', '208.txt', '197.txt', '190.txt', '198.txt', '177.txt', '181.txt', '183.txt', '211.txt', '186.txt', '174.txt', '207.txt', '184.txt', '192.txt', '213.txt', '176.txt', '201.txt', '191.txt', '178.txt', '175.txt', '200.txt', '219.txt', '238.txt', '229.txt', '242.txt', '218.txt', '240.txt', '225.txt', '247.txt', '260.txt', '224.txt', '241.txt', '230.txt', '244.txt', '222.txt', '252.txt', '262.txt', '217.txt', '258.txt', '234.txt', '264.txt', '237.txt', '228.txt', '263.txt', '232.txt', '251.txt', '220.txt', '226.txt', '221.txt', '254.txt', '233.txt', '245.txt', '250.txt', '249.txt', '259.txt', '236.txt', '257.txt', '243.txt', '223.txt', '261.txt', '253.txt', '235.txt', '231.txt', '248.txt', '256.txt', '239.txt', '255.txt', '246.txt', '227.txt', '292.txt', '268.txt', '306.txt', '291.txt', '300.txt', '273.txt', '275.txt', '280.txt', '307.txt', '289.txt', '286.txt', '301.txt', '281.txt', '285.txt', '269.txt', '283.txt', '265.txt', '297.txt', '305.txt', '271.txt', '282.txt', '304.txt', '296.txt', '295.txt', '293.txt', '288.txt', '267.txt', '290.txt', '302.txt', '308.txt', '284.txt', '287.txt', '274.txt', '270.txt', '277.txt', '276.txt', '272.txt', '303.txt', '298.txt', '294.txt', '309.txt', '279.txt', '278.txt', '266.txt', '299.txt', '331.txt', '311.txt', '319.txt', '332.txt', '325.txt', '321.txt', '317.txt', '343.txt', '334.txt', '346.txt', '315.txt', '328.txt', '312.txt', '347.txt', '340.txt', '342.txt', '329.txt', '337.txt', '345.txt', '313.txt', '320.txt', '349.txt', '333.txt', '336.txt', '323.txt', '327.txt', '335.txt', '324.txt', '341.txt', '338.txt', '348.txt', '314.txt', '330.txt', '350.txt', '326.txt', '310.txt', '318.txt', '316.txt', '322.txt', '339.txt', '344.txt', '383.txt', '359.txt', '360.txt', '368.txt', '363.txt', '361.txt', '374.txt', '387.txt', '391.txt', '377.txt', '375.txt', '381.txt', '354.txt', '386.txt', '358.txt', '372.txt', '364.txt', '385.txt', '382.txt', '376.txt', '384.txt', '373.txt', '390.txt', '380.txt', '351.txt', '379.txt', '388.txt', '369.txt', '371.txt', '370.txt', '356.txt', '365.txt', '367.txt', '366.txt', '362.txt', '378.txt', '352.txt', '353.txt', '355.txt', '389.txt', '357.txt', '392.txt', '418.txt', '403.txt', '414.txt', '425.txt', '394.txt', '424.txt', '413.txt', '406.txt', '419.txt', '423.txt', '421.txt', '399.txt', '417.txt', '402.txt', '410.txt', '398.txt', '409.txt', '416.txt', '407.txt', '401.txt', '411.txt', '422.txt', '405.txt', '412.txt', '397.txt', '395.txt', '427.txt', '400.txt', '393.txt', '396.txt', '420.txt', '408.txt', '426.txt', '404.txt', '415.txt', '428.txt', '436.txt', '464.txt', '458.txt', '441.txt', '472.txt', '429.txt', '469.txt', '475.txt', '435.txt', '457.txt', '473.txt', '433.txt', '454.txt', '449.txt', '430.txt', '448.txt', '455.txt', '452.txt', '446.txt', '438.txt', '444.txt', '459.txt', '466.txt', '447.txt', '432.txt', '461.txt', '465.txt', '468.txt', '462.txt', '471.txt', '451.txt', '463.txt', '470.txt', '456.txt', '434.txt', '460.txt', '442.txt', '439.txt', '437.txt', '450.txt', '443.txt', '474.txt', '445.txt', '431.txt', '440.txt', '453.txt', '467.txt', '484.txt', '503.txt', '506.txt', '491.txt', '477.txt', '508.txt', '488.txt', '493.txt', '494.txt', '478.txt', '502.txt', '500.txt', '485.txt', '511.txt', '479.txt', '492.txt', '489.txt', '507.txt', '501.txt', '476.txt', '481.txt', '498.txt', '510.txt', '509.txt', '483.txt', '504.txt', '490.txt', '480.txt', '482.txt', '499.txt', '495.txt', '497.txt', '487.txt', '486.txt', '496.txt', '505.txt'])\n"
          ]
        }
      ]
    },
    {
      "cell_type": "code",
      "source": [
        "dirnames = []\n",
        "\n",
        "topics = ['business', 'politics', 'tech', 'entertainment', 'sport']\n",
        "\n",
        "for topic in topics:\n",
        "  for link, _, files in os.walk('/content/drive/MyDrive/Topic Modeling on BBC News Articles/bbc'+'/{}'.format(topic)):\n",
        "    for file in files:\n",
        "      dirnames.append(os.path.join(link, file))"
      ],
      "metadata": {
        "id": "fADVmhkaaIQK"
      },
      "execution_count": 4,
      "outputs": []
    },
    {
      "cell_type": "code",
      "source": [
        "random.shuffle(dirnames)"
      ],
      "metadata": {
        "id": "M63pX7q9aIaw"
      },
      "execution_count": 5,
      "outputs": []
    },
    {
      "cell_type": "code",
      "source": [
        "df = pd.DataFrame(dirnames, columns = ['location'])\n",
        "df.head()"
      ],
      "metadata": {
        "id": "WaSMsZIZaIdY",
        "colab": {
          "base_uri": "https://localhost:8080/",
          "height": 206
        },
        "outputId": "bccc4ea9-d8ab-4899-cd2c-d6cedd32ad5b"
      },
      "execution_count": 6,
      "outputs": [
        {
          "output_type": "execute_result",
          "data": {
            "text/plain": [
              "                                            location\n",
              "0  /content/drive/MyDrive/Topic Modeling on BBC N...\n",
              "1  /content/drive/MyDrive/Topic Modeling on BBC N...\n",
              "2  /content/drive/MyDrive/Topic Modeling on BBC N...\n",
              "3  /content/drive/MyDrive/Topic Modeling on BBC N...\n",
              "4  /content/drive/MyDrive/Topic Modeling on BBC N..."
            ],
            "text/html": [
              "\n",
              "  <div id=\"df-78862bfe-5f14-4f90-87f9-6fc4abfac59c\">\n",
              "    <div class=\"colab-df-container\">\n",
              "      <div>\n",
              "<style scoped>\n",
              "    .dataframe tbody tr th:only-of-type {\n",
              "        vertical-align: middle;\n",
              "    }\n",
              "\n",
              "    .dataframe tbody tr th {\n",
              "        vertical-align: top;\n",
              "    }\n",
              "\n",
              "    .dataframe thead th {\n",
              "        text-align: right;\n",
              "    }\n",
              "</style>\n",
              "<table border=\"1\" class=\"dataframe\">\n",
              "  <thead>\n",
              "    <tr style=\"text-align: right;\">\n",
              "      <th></th>\n",
              "      <th>location</th>\n",
              "    </tr>\n",
              "  </thead>\n",
              "  <tbody>\n",
              "    <tr>\n",
              "      <th>0</th>\n",
              "      <td>/content/drive/MyDrive/Topic Modeling on BBC N...</td>\n",
              "    </tr>\n",
              "    <tr>\n",
              "      <th>1</th>\n",
              "      <td>/content/drive/MyDrive/Topic Modeling on BBC N...</td>\n",
              "    </tr>\n",
              "    <tr>\n",
              "      <th>2</th>\n",
              "      <td>/content/drive/MyDrive/Topic Modeling on BBC N...</td>\n",
              "    </tr>\n",
              "    <tr>\n",
              "      <th>3</th>\n",
              "      <td>/content/drive/MyDrive/Topic Modeling on BBC N...</td>\n",
              "    </tr>\n",
              "    <tr>\n",
              "      <th>4</th>\n",
              "      <td>/content/drive/MyDrive/Topic Modeling on BBC N...</td>\n",
              "    </tr>\n",
              "  </tbody>\n",
              "</table>\n",
              "</div>\n",
              "      <button class=\"colab-df-convert\" onclick=\"convertToInteractive('df-78862bfe-5f14-4f90-87f9-6fc4abfac59c')\"\n",
              "              title=\"Convert this dataframe to an interactive table.\"\n",
              "              style=\"display:none;\">\n",
              "        \n",
              "  <svg xmlns=\"http://www.w3.org/2000/svg\" height=\"24px\"viewBox=\"0 0 24 24\"\n",
              "       width=\"24px\">\n",
              "    <path d=\"M0 0h24v24H0V0z\" fill=\"none\"/>\n",
              "    <path d=\"M18.56 5.44l.94 2.06.94-2.06 2.06-.94-2.06-.94-.94-2.06-.94 2.06-2.06.94zm-11 1L8.5 8.5l.94-2.06 2.06-.94-2.06-.94L8.5 2.5l-.94 2.06-2.06.94zm10 10l.94 2.06.94-2.06 2.06-.94-2.06-.94-.94-2.06-.94 2.06-2.06.94z\"/><path d=\"M17.41 7.96l-1.37-1.37c-.4-.4-.92-.59-1.43-.59-.52 0-1.04.2-1.43.59L10.3 9.45l-7.72 7.72c-.78.78-.78 2.05 0 2.83L4 21.41c.39.39.9.59 1.41.59.51 0 1.02-.2 1.41-.59l7.78-7.78 2.81-2.81c.8-.78.8-2.07 0-2.86zM5.41 20L4 18.59l7.72-7.72 1.47 1.35L5.41 20z\"/>\n",
              "  </svg>\n",
              "      </button>\n",
              "      \n",
              "  <style>\n",
              "    .colab-df-container {\n",
              "      display:flex;\n",
              "      flex-wrap:wrap;\n",
              "      gap: 12px;\n",
              "    }\n",
              "\n",
              "    .colab-df-convert {\n",
              "      background-color: #E8F0FE;\n",
              "      border: none;\n",
              "      border-radius: 50%;\n",
              "      cursor: pointer;\n",
              "      display: none;\n",
              "      fill: #1967D2;\n",
              "      height: 32px;\n",
              "      padding: 0 0 0 0;\n",
              "      width: 32px;\n",
              "    }\n",
              "\n",
              "    .colab-df-convert:hover {\n",
              "      background-color: #E2EBFA;\n",
              "      box-shadow: 0px 1px 2px rgba(60, 64, 67, 0.3), 0px 1px 3px 1px rgba(60, 64, 67, 0.15);\n",
              "      fill: #174EA6;\n",
              "    }\n",
              "\n",
              "    [theme=dark] .colab-df-convert {\n",
              "      background-color: #3B4455;\n",
              "      fill: #D2E3FC;\n",
              "    }\n",
              "\n",
              "    [theme=dark] .colab-df-convert:hover {\n",
              "      background-color: #434B5C;\n",
              "      box-shadow: 0px 1px 3px 1px rgba(0, 0, 0, 0.15);\n",
              "      filter: drop-shadow(0px 1px 2px rgba(0, 0, 0, 0.3));\n",
              "      fill: #FFFFFF;\n",
              "    }\n",
              "  </style>\n",
              "\n",
              "      <script>\n",
              "        const buttonEl =\n",
              "          document.querySelector('#df-78862bfe-5f14-4f90-87f9-6fc4abfac59c button.colab-df-convert');\n",
              "        buttonEl.style.display =\n",
              "          google.colab.kernel.accessAllowed ? 'block' : 'none';\n",
              "\n",
              "        async function convertToInteractive(key) {\n",
              "          const element = document.querySelector('#df-78862bfe-5f14-4f90-87f9-6fc4abfac59c');\n",
              "          const dataTable =\n",
              "            await google.colab.kernel.invokeFunction('convertToInteractive',\n",
              "                                                     [key], {});\n",
              "          if (!dataTable) return;\n",
              "\n",
              "          const docLinkHtml = 'Like what you see? Visit the ' +\n",
              "            '<a target=\"_blank\" href=https://colab.research.google.com/notebooks/data_table.ipynb>data table notebook</a>'\n",
              "            + ' to learn more about interactive tables.';\n",
              "          element.innerHTML = '';\n",
              "          dataTable['output_type'] = 'display_data';\n",
              "          await google.colab.output.renderOutput(dataTable, element);\n",
              "          const docLink = document.createElement('div');\n",
              "          docLink.innerHTML = docLinkHtml;\n",
              "          element.appendChild(docLink);\n",
              "        }\n",
              "      </script>\n",
              "    </div>\n",
              "  </div>\n",
              "  "
            ]
          },
          "metadata": {},
          "execution_count": 6
        }
      ]
    },
    {
      "cell_type": "code",
      "source": [
        "with open(df['location'][1]) as myfile:\n",
        "  contents = myfile.readline().strip('\\n')\n",
        "print(contents)"
      ],
      "metadata": {
        "id": "7xwZU1wuaItY",
        "colab": {
          "base_uri": "https://localhost:8080/"
        },
        "outputId": "89694c96-3f91-4cd5-f535-eb68acf6b5cb"
      },
      "execution_count": 7,
      "outputs": [
        {
          "output_type": "stream",
          "name": "stdout",
          "text": [
            "Spike Lee backs student directors\n"
          ]
        }
      ]
    },
    {
      "cell_type": "code",
      "source": [
        "headlines = []\n",
        "\n",
        "for i in df['location']:\n",
        "  myfile = open(i, errors = 'replace')\n",
        "  contents = myfile.readline().strip('\\n')\n",
        "  myfile.close()\n",
        "  headlines.append(contents)\n",
        "\n",
        "print(len(headlines))"
      ],
      "metadata": {
        "id": "hnCwxlqBaIv4",
        "colab": {
          "base_uri": "https://localhost:8080/"
        },
        "outputId": "ac4fdc3b-3987-4a4a-df1d-d9e8e9bb402c"
      },
      "execution_count": 8,
      "outputs": [
        {
          "output_type": "stream",
          "name": "stdout",
          "text": [
            "2225\n"
          ]
        }
      ]
    },
    {
      "cell_type": "code",
      "source": [
        "df['headlines'] = headlines\n",
        "df.head()"
      ],
      "metadata": {
        "id": "nvKrx9kXaI_w",
        "colab": {
          "base_uri": "https://localhost:8080/",
          "height": 206
        },
        "outputId": "d3f1a354-14c7-48e4-d024-668d7d836bd4"
      },
      "execution_count": 9,
      "outputs": [
        {
          "output_type": "execute_result",
          "data": {
            "text/plain": [
              "                                            location  \\\n",
              "0  /content/drive/MyDrive/Topic Modeling on BBC N...   \n",
              "1  /content/drive/MyDrive/Topic Modeling on BBC N...   \n",
              "2  /content/drive/MyDrive/Topic Modeling on BBC N...   \n",
              "3  /content/drive/MyDrive/Topic Modeling on BBC N...   \n",
              "4  /content/drive/MyDrive/Topic Modeling on BBC N...   \n",
              "\n",
              "                           headlines  \n",
              "0  Research fears over Kelly's views  \n",
              "1  Spike Lee backs student directors  \n",
              "2    Campaigners attack MTV 'sleaze'  \n",
              "3   Media seek Jackson 'juror' notes  \n",
              "4      South Africa sweep top awards  "
            ],
            "text/html": [
              "\n",
              "  <div id=\"df-118d413a-0250-4f7f-8299-e860669e81d7\">\n",
              "    <div class=\"colab-df-container\">\n",
              "      <div>\n",
              "<style scoped>\n",
              "    .dataframe tbody tr th:only-of-type {\n",
              "        vertical-align: middle;\n",
              "    }\n",
              "\n",
              "    .dataframe tbody tr th {\n",
              "        vertical-align: top;\n",
              "    }\n",
              "\n",
              "    .dataframe thead th {\n",
              "        text-align: right;\n",
              "    }\n",
              "</style>\n",
              "<table border=\"1\" class=\"dataframe\">\n",
              "  <thead>\n",
              "    <tr style=\"text-align: right;\">\n",
              "      <th></th>\n",
              "      <th>location</th>\n",
              "      <th>headlines</th>\n",
              "    </tr>\n",
              "  </thead>\n",
              "  <tbody>\n",
              "    <tr>\n",
              "      <th>0</th>\n",
              "      <td>/content/drive/MyDrive/Topic Modeling on BBC N...</td>\n",
              "      <td>Research fears over Kelly's views</td>\n",
              "    </tr>\n",
              "    <tr>\n",
              "      <th>1</th>\n",
              "      <td>/content/drive/MyDrive/Topic Modeling on BBC N...</td>\n",
              "      <td>Spike Lee backs student directors</td>\n",
              "    </tr>\n",
              "    <tr>\n",
              "      <th>2</th>\n",
              "      <td>/content/drive/MyDrive/Topic Modeling on BBC N...</td>\n",
              "      <td>Campaigners attack MTV 'sleaze'</td>\n",
              "    </tr>\n",
              "    <tr>\n",
              "      <th>3</th>\n",
              "      <td>/content/drive/MyDrive/Topic Modeling on BBC N...</td>\n",
              "      <td>Media seek Jackson 'juror' notes</td>\n",
              "    </tr>\n",
              "    <tr>\n",
              "      <th>4</th>\n",
              "      <td>/content/drive/MyDrive/Topic Modeling on BBC N...</td>\n",
              "      <td>South Africa sweep top awards</td>\n",
              "    </tr>\n",
              "  </tbody>\n",
              "</table>\n",
              "</div>\n",
              "      <button class=\"colab-df-convert\" onclick=\"convertToInteractive('df-118d413a-0250-4f7f-8299-e860669e81d7')\"\n",
              "              title=\"Convert this dataframe to an interactive table.\"\n",
              "              style=\"display:none;\">\n",
              "        \n",
              "  <svg xmlns=\"http://www.w3.org/2000/svg\" height=\"24px\"viewBox=\"0 0 24 24\"\n",
              "       width=\"24px\">\n",
              "    <path d=\"M0 0h24v24H0V0z\" fill=\"none\"/>\n",
              "    <path d=\"M18.56 5.44l.94 2.06.94-2.06 2.06-.94-2.06-.94-.94-2.06-.94 2.06-2.06.94zm-11 1L8.5 8.5l.94-2.06 2.06-.94-2.06-.94L8.5 2.5l-.94 2.06-2.06.94zm10 10l.94 2.06.94-2.06 2.06-.94-2.06-.94-.94-2.06-.94 2.06-2.06.94z\"/><path d=\"M17.41 7.96l-1.37-1.37c-.4-.4-.92-.59-1.43-.59-.52 0-1.04.2-1.43.59L10.3 9.45l-7.72 7.72c-.78.78-.78 2.05 0 2.83L4 21.41c.39.39.9.59 1.41.59.51 0 1.02-.2 1.41-.59l7.78-7.78 2.81-2.81c.8-.78.8-2.07 0-2.86zM5.41 20L4 18.59l7.72-7.72 1.47 1.35L5.41 20z\"/>\n",
              "  </svg>\n",
              "      </button>\n",
              "      \n",
              "  <style>\n",
              "    .colab-df-container {\n",
              "      display:flex;\n",
              "      flex-wrap:wrap;\n",
              "      gap: 12px;\n",
              "    }\n",
              "\n",
              "    .colab-df-convert {\n",
              "      background-color: #E8F0FE;\n",
              "      border: none;\n",
              "      border-radius: 50%;\n",
              "      cursor: pointer;\n",
              "      display: none;\n",
              "      fill: #1967D2;\n",
              "      height: 32px;\n",
              "      padding: 0 0 0 0;\n",
              "      width: 32px;\n",
              "    }\n",
              "\n",
              "    .colab-df-convert:hover {\n",
              "      background-color: #E2EBFA;\n",
              "      box-shadow: 0px 1px 2px rgba(60, 64, 67, 0.3), 0px 1px 3px 1px rgba(60, 64, 67, 0.15);\n",
              "      fill: #174EA6;\n",
              "    }\n",
              "\n",
              "    [theme=dark] .colab-df-convert {\n",
              "      background-color: #3B4455;\n",
              "      fill: #D2E3FC;\n",
              "    }\n",
              "\n",
              "    [theme=dark] .colab-df-convert:hover {\n",
              "      background-color: #434B5C;\n",
              "      box-shadow: 0px 1px 3px 1px rgba(0, 0, 0, 0.15);\n",
              "      filter: drop-shadow(0px 1px 2px rgba(0, 0, 0, 0.3));\n",
              "      fill: #FFFFFF;\n",
              "    }\n",
              "  </style>\n",
              "\n",
              "      <script>\n",
              "        const buttonEl =\n",
              "          document.querySelector('#df-118d413a-0250-4f7f-8299-e860669e81d7 button.colab-df-convert');\n",
              "        buttonEl.style.display =\n",
              "          google.colab.kernel.accessAllowed ? 'block' : 'none';\n",
              "\n",
              "        async function convertToInteractive(key) {\n",
              "          const element = document.querySelector('#df-118d413a-0250-4f7f-8299-e860669e81d7');\n",
              "          const dataTable =\n",
              "            await google.colab.kernel.invokeFunction('convertToInteractive',\n",
              "                                                     [key], {});\n",
              "          if (!dataTable) return;\n",
              "\n",
              "          const docLinkHtml = 'Like what you see? Visit the ' +\n",
              "            '<a target=\"_blank\" href=https://colab.research.google.com/notebooks/data_table.ipynb>data table notebook</a>'\n",
              "            + ' to learn more about interactive tables.';\n",
              "          element.innerHTML = '';\n",
              "          dataTable['output_type'] = 'display_data';\n",
              "          await google.colab.output.renderOutput(dataTable, element);\n",
              "          const docLink = document.createElement('div');\n",
              "          docLink.innerHTML = docLinkHtml;\n",
              "          element.appendChild(docLink);\n",
              "        }\n",
              "      </script>\n",
              "    </div>\n",
              "  </div>\n",
              "  "
            ]
          },
          "metadata": {},
          "execution_count": 9
        }
      ]
    },
    {
      "cell_type": "code",
      "source": [
        "import re\n",
        "import string\n",
        "\n",
        "##def top_n_words(headlines, n = 10):\n",
        "  ##for headline in headlines:"
      ],
      "metadata": {
        "id": "49dlHCzqaJCm"
      },
      "execution_count": 10,
      "outputs": []
    },
    {
      "cell_type": "code",
      "source": [
        "sub = re.sub(r'['+string.punctuation+']', ' ', df['headlines'][0])\n",
        "#sub\n",
        "re.split(' ', sub)"
      ],
      "metadata": {
        "id": "zpp8mgbVaJDj",
        "colab": {
          "base_uri": "https://localhost:8080/"
        },
        "outputId": "61f6e50b-5d7f-4c09-d958-bf1b672b94a4"
      },
      "execution_count": 11,
      "outputs": [
        {
          "output_type": "execute_result",
          "data": {
            "text/plain": [
              "['Research', 'fears', 'over', 'Kelly', 's', 'views']"
            ]
          },
          "metadata": {},
          "execution_count": 11
        }
      ]
    },
    {
      "cell_type": "code",
      "source": [
        "string.punctuation"
      ],
      "metadata": {
        "id": "0USizWWUaJF4",
        "colab": {
          "base_uri": "https://localhost:8080/",
          "height": 35
        },
        "outputId": "3e248fef-7654-4aa7-b6e2-2387fc42ff10"
      },
      "execution_count": 12,
      "outputs": [
        {
          "output_type": "execute_result",
          "data": {
            "text/plain": [
              "'!\"#$%&\\'()*+,-./:;<=>?@[\\\\]^_`{|}~'"
            ],
            "application/vnd.google.colaboratory.intrinsic+json": {
              "type": "string"
            }
          },
          "metadata": {},
          "execution_count": 12
        }
      ]
    },
    {
      "cell_type": "code",
      "source": [
        "import nltk\n",
        "from nltk.corpus import stopwords\n",
        "nltk.download('stopwords')\n",
        "\n",
        "from collections import Counter\n",
        "\n",
        "def top_n_words(df, n = 10):\n",
        "  collection = get_tokens(df)\n",
        "  return Counter(collection).most_common(n)\n",
        "\n",
        "def get_tokens(df):\n",
        "  collection = []\n",
        "  for i in df['headlines']:\n",
        "    sub = re.sub(r'['+string.punctuation+']', ' ', i)\n",
        "    for j in re.split(' ', sub):\n",
        "      if j.lower() not in stopwords.words('english') + ['']:\n",
        "        collection.append(j.lower())\n",
        "  return collection\n",
        "\n",
        "collection = get_tokens(df)\n",
        "top_n = top_n_words(df, n = 10)\n",
        "print(len(collection))\n",
        "print(len(top_n))"
      ],
      "metadata": {
        "id": "5dbKR3gSaJIw",
        "colab": {
          "base_uri": "https://localhost:8080/"
        },
        "outputId": "d6c14c52-1abe-4c3e-fe87-c6401389e92e"
      },
      "execution_count": 32,
      "outputs": [
        {
          "output_type": "stream",
          "name": "stdout",
          "text": [
            "[nltk_data] Downloading package stopwords to /root/nltk_data...\n",
            "[nltk_data]   Package stopwords is already up-to-date!\n",
            "10068\n",
            "10\n"
          ]
        }
      ]
    },
    {
      "cell_type": "code",
      "source": [
        "top_n"
      ],
      "metadata": {
        "id": "8E7QUDboaJN4",
        "colab": {
          "base_uri": "https://localhost:8080/"
        },
        "outputId": "fc69179f-d81b-4d35-b334-de0fe3c245cc"
      },
      "execution_count": 33,
      "outputs": [
        {
          "output_type": "execute_result",
          "data": {
            "text/plain": [
              "[('us', 115),\n",
              " ('new', 69),\n",
              " ('uk', 61),\n",
              " ('blair', 49),\n",
              " ('film', 46),\n",
              " ('tv', 41),\n",
              " ('top', 35),\n",
              " ('hits', 32),\n",
              " ('set', 32),\n",
              " ('net', 31)]"
            ]
          },
          "metadata": {},
          "execution_count": 33
        }
      ]
    },
    {
      "cell_type": "code",
      "source": [
        ""
      ],
      "metadata": {
        "id": "WA8YlMVJaJTS"
      },
      "execution_count": 12,
      "outputs": []
    },
    {
      "cell_type": "code",
      "source": [
        ""
      ],
      "metadata": {
        "id": "aaG97VN4aJWK"
      },
      "execution_count": 12,
      "outputs": []
    },
    {
      "cell_type": "code",
      "source": [
        ""
      ],
      "metadata": {
        "id": "MOZL01nhaJY4"
      },
      "execution_count": 12,
      "outputs": []
    },
    {
      "cell_type": "code",
      "source": [
        ""
      ],
      "metadata": {
        "id": "7CYiGK2JaJbg"
      },
      "execution_count": 12,
      "outputs": []
    },
    {
      "cell_type": "code",
      "source": [
        ""
      ],
      "metadata": {
        "id": "1oEdDOsJaJej"
      },
      "execution_count": 12,
      "outputs": []
    },
    {
      "cell_type": "code",
      "source": [
        ""
      ],
      "metadata": {
        "id": "uWh7gVocaJhK"
      },
      "execution_count": 12,
      "outputs": []
    },
    {
      "cell_type": "code",
      "source": [
        ""
      ],
      "metadata": {
        "id": "CNWyebqRaJjo"
      },
      "execution_count": 12,
      "outputs": []
    },
    {
      "cell_type": "code",
      "source": [
        ""
      ],
      "metadata": {
        "id": "hFpu0TcFaJmw"
      },
      "execution_count": 12,
      "outputs": []
    },
    {
      "cell_type": "code",
      "source": [
        ""
      ],
      "metadata": {
        "id": "WAlmi9jJaJpo"
      },
      "execution_count": 12,
      "outputs": []
    },
    {
      "cell_type": "code",
      "source": [
        ""
      ],
      "metadata": {
        "id": "cxbJ8KcZaJsR"
      },
      "execution_count": 12,
      "outputs": []
    },
    {
      "cell_type": "code",
      "source": [
        ""
      ],
      "metadata": {
        "id": "g1UTPfXXaJva"
      },
      "execution_count": 12,
      "outputs": []
    },
    {
      "cell_type": "code",
      "source": [
        ""
      ],
      "metadata": {
        "id": "PXhbRDkraJxw"
      },
      "execution_count": 12,
      "outputs": []
    },
    {
      "cell_type": "code",
      "source": [
        ""
      ],
      "metadata": {
        "id": "DOSD4QN2aJ3I"
      },
      "execution_count": 12,
      "outputs": []
    },
    {
      "cell_type": "code",
      "source": [
        ""
      ],
      "metadata": {
        "id": "MnVdRukqaJ6B"
      },
      "execution_count": 12,
      "outputs": []
    },
    {
      "cell_type": "code",
      "source": [
        ""
      ],
      "metadata": {
        "id": "b79ExuPpaJ7z"
      },
      "execution_count": 12,
      "outputs": []
    },
    {
      "cell_type": "code",
      "source": [
        ""
      ],
      "metadata": {
        "id": "xlA4fzAiaJ9B"
      },
      "execution_count": 12,
      "outputs": []
    },
    {
      "cell_type": "code",
      "source": [
        ""
      ],
      "metadata": {
        "id": "_NVgRBGmaJ_j"
      },
      "execution_count": 12,
      "outputs": []
    },
    {
      "cell_type": "code",
      "source": [
        ""
      ],
      "metadata": {
        "id": "7g2MmOSlaKCA"
      },
      "execution_count": 12,
      "outputs": []
    },
    {
      "cell_type": "code",
      "source": [
        ""
      ],
      "metadata": {
        "id": "nb46BbZxaKE4"
      },
      "execution_count": 12,
      "outputs": []
    },
    {
      "cell_type": "code",
      "source": [
        ""
      ],
      "metadata": {
        "id": "uJBW3FGCaKKA"
      },
      "execution_count": 12,
      "outputs": []
    },
    {
      "cell_type": "code",
      "source": [
        ""
      ],
      "metadata": {
        "id": "FKW3q8goaKM1"
      },
      "execution_count": 12,
      "outputs": []
    },
    {
      "cell_type": "code",
      "source": [
        ""
      ],
      "metadata": {
        "id": "-xjB38-naKPg"
      },
      "execution_count": 12,
      "outputs": []
    },
    {
      "cell_type": "code",
      "source": [
        ""
      ],
      "metadata": {
        "id": "FTKNqldfaKSG"
      },
      "execution_count": 12,
      "outputs": []
    },
    {
      "cell_type": "code",
      "metadata": {
        "id": "dByMsuzT8Tnw"
      },
      "source": [
        ""
      ],
      "execution_count": 12,
      "outputs": []
    }
  ]
}